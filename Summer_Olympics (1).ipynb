{
  "nbformat": 4,
  "nbformat_minor": 0,
  "metadata": {
    "colab": {
      "name": "Summer Olympics.ipynb",
      "provenance": [],
      "collapsed_sections": []
    },
    "kernelspec": {
      "name": "python3",
      "display_name": "Python 3"
    },
    "language_info": {
      "name": "python"
    }
  },
  "cells": [
    {
      "cell_type": "markdown",
      "metadata": {
        "id": "zazFQculY6HM"
      },
      "source": [
        "# ***Summer Olympics Data Analysis Assignment***"
      ]
    },
    {
      "cell_type": "code",
      "metadata": {
        "id": "qYXzTmMwY9j7"
      },
      "source": [
        "import pandas as pd\n",
        "df=pd.read_csv('summer.csv')"
      ],
      "execution_count": 321,
      "outputs": []
    },
    {
      "cell_type": "markdown",
      "metadata": {
        "id": "xMk5YnacY6av"
      },
      "source": [
        "### **1. In how many cities Summer Olympics is held so far?**\n"
      ]
    },
    {
      "cell_type": "code",
      "metadata": {
        "colab": {
          "base_uri": "https://localhost:8080/"
        },
        "id": "WcOMGj4VZKUg",
        "outputId": "a8f9a8ba-a63e-401a-a1ac-2dd20aeb5ad3"
      },
      "source": [
        "print('Summer Olympics is held in',len(df['City'].unique()),'cities so far.')"
      ],
      "execution_count": 322,
      "outputs": [
        {
          "output_type": "stream",
          "name": "stdout",
          "text": [
            "Summer Olympics is held in 22 cities so far.\n"
          ]
        }
      ]
    },
    {
      "cell_type": "markdown",
      "metadata": {
        "id": "Z-dENZkYZp56"
      },
      "source": [
        "### **2. Which sport is having most number of Gold Medals so far? (Top 5)**"
      ]
    },
    {
      "cell_type": "code",
      "metadata": {
        "colab": {
          "base_uri": "https://localhost:8080/",
          "height": 344
        },
        "id": "C5HABMK7ZtGI",
        "outputId": "9242b795-09a8-40fd-9061-20653770112d"
      },
      "source": [
        "a=df[df['Medal']=='Gold']\n",
        "data=[]\n",
        "for sport in a['Sport'].unique():\n",
        "  data.append([sport,len(a[a['Sport']==sport])])\n",
        "\n",
        "data=pd.DataFrame(data,columns=['Sport','Gold Medals'])\n",
        "data=data.sort_values(by='Gold Medals',ascending = False )\n",
        "a=data.head()\n",
        "a.plot(x='Sport',y='Gold Medals',kind='bar')"
      ],
      "execution_count": 323,
      "outputs": [
        {
          "output_type": "execute_result",
          "data": {
            "text/plain": [
              "<matplotlib.axes._subplots.AxesSubplot at 0x7fe83aae47d0>"
            ]
          },
          "metadata": {},
          "execution_count": 323
        },
        {
          "output_type": "display_data",
          "data": {
            "image/png": "[encoded data removed]",
            "text/plain": [
              "<Figure size 432x288 with 1 Axes>"
            ]
          },
          "metadata": {
            "needs_background": "light"
          }
        }
      ]
    },
    {
      "cell_type": "markdown",
      "metadata": {
        "id": "DqSmXmUkucfZ"
      },
      "source": [
        "### **3. Which sport is having most number of medals so far? (Top 5)**"
      ]
    },
    {
      "cell_type": "code",
      "metadata": {
        "colab": {
          "base_uri": "https://localhost:8080/",
          "height": 344
        },
        "id": "tErwhtd4uj29",
        "outputId": "94c92ac5-8032-44d8-e043-7fea017176aa"
      },
      "source": [
        "data=[]\n",
        "for sport in df['Sport'].unique():\n",
        "  data.append([sport,len(df[df['Sport']==sport])])\n",
        "\n",
        "data=pd.DataFrame(data,columns=['Sport','Medals'])\n",
        "data=data.sort_values(by='Medals',ascending = False )\n",
        "a=data.head()\n",
        "a.plot(x='Sport',y='Medals',kind='bar')\n"
      ],
      "execution_count": 337,
      "outputs": [
        {
          "output_type": "execute_result",
          "data": {
            "text/plain": [
              "<matplotlib.axes._subplots.AxesSubplot at 0x7fe83a4c4b50>"
            ]
          },
          "metadata": {},
          "execution_count": 337
        },
        {
          "output_type": "display_data",
          "data": {
            "image/png": "[encoded data removed]",
            "text/plain": [
              "<Figure size 432x288 with 1 Axes>"
            ]
          },
          "metadata": {
            "needs_background": "light"
          }
        }
      ]
    },
    {
      "cell_type": "markdown",
      "metadata": {
        "id": "7GDoW1yZxMlZ"
      },
      "source": [
        "### **4. Which player has won most number of medals? (Top 5)**"
      ]
    },
    {
      "cell_type": "code",
      "metadata": {
        "colab": {
          "base_uri": "https://localhost:8080/",
          "height": 403
        },
        "id": "M6i9u9hXwbc1",
        "outputId": "506fd760-2e58-4b9d-b90d-39b5aaf9f622"
      },
      "source": [
        "data=[]\n",
        "for athlete in df['Athlete'].unique():\n",
        "  data.append([athlete,len(df[df['Athlete']==athlete])])\n",
        "\n",
        "data=pd.DataFrame(data,columns=['Athlete','Medals'])\n",
        "data=data.sort_values(by='Medals',ascending = False )\n",
        "a=data.head()\n",
        "a.plot(x='Athlete',y='Medals',kind='bar')"
      ],
      "execution_count": 325,
      "outputs": [
        {
          "output_type": "execute_result",
          "data": {
            "text/plain": [
              "<matplotlib.axes._subplots.AxesSubplot at 0x7fe83a9d9290>"
            ]
          },
          "metadata": {},
          "execution_count": 325
        },
        {
          "output_type": "display_data",
          "data": {
            "image/png": "[encoded data removed]",
            "text/plain": [
              "<Figure size 432x288 with 1 Axes>"
            ]
          },
          "metadata": {
            "needs_background": "light"
          }
        }
      ]
    },
    {
      "cell_type": "markdown",
      "metadata": {
        "id": "pEhifVdHy6gw"
      },
      "source": [
        "### **5. Which player has won most number Gold Medals of medals? (Top 5)**"
      ]
    },
    {
      "cell_type": "code",
      "metadata": {
        "colab": {
          "base_uri": "https://localhost:8080/",
          "height": 370
        },
        "id": "2w3aSuiBx1v2",
        "outputId": "6237bfa5-87d9-496e-9ce8-fd63a04545d5"
      },
      "source": [
        "data=[]\n",
        "a=df[df['Medal']=='Gold']\n",
        "\n",
        "for athlete in a['Athlete'].unique():\n",
        "  data.append([athlete,len(a[a['Athlete']==athlete])])\n",
        "\n",
        "data=pd.DataFrame(data,columns=['Athlete','Gold Medals'])\n",
        "data=data.sort_values(by='Gold Medals',ascending = False )\n",
        "a=data.head()\n",
        "a.plot(x='Athlete',y='Gold Medals',kind='bar')"
      ],
      "execution_count": 326,
      "outputs": [
        {
          "output_type": "execute_result",
          "data": {
            "text/plain": [
              "<matplotlib.axes._subplots.AxesSubplot at 0x7fe839d87990>"
            ]
          },
          "metadata": {},
          "execution_count": 326
        },
        {
          "output_type": "display_data",
          "data": {
            "image/png": "[encoded data removed]",
            "text/plain": [
              "<Figure size 432x288 with 1 Axes>"
            ]
          },
          "metadata": {
            "needs_background": "light"
          }
        }
      ]
    },
    {
      "cell_type": "markdown",
      "metadata": {
        "id": "prqDcu6f24iy"
      },
      "source": [
        "### **6. In which year India won first Gold Medal in Summer Olympics?**"
      ]
    },
    {
      "cell_type": "code",
      "metadata": {
        "colab": {
          "base_uri": "https://localhost:8080/"
        },
        "id": "xd1QHLlM2VJu",
        "outputId": "921625fc-4d74-43b2-b4d6-d683caedb033"
      },
      "source": [
        "a=df[df['Medal']=='Gold']\n",
        "y=[]\n",
        "for year in a[a['Country']=='IND']['Year'].unique():\n",
        "  y.append(year)\n",
        "\n",
        "print(\"India won first Gold Medal in Summer Olympics in :\",min(y))"
      ],
      "execution_count": 327,
      "outputs": [
        {
          "output_type": "stream",
          "name": "stdout",
          "text": [
            "India won first Gold Medal in Summer Olympics in : 1928\n"
          ]
        }
      ]
    },
    {
      "cell_type": "markdown",
      "metadata": {
        "id": "oYqauJWK72qR"
      },
      "source": [
        "### **7. Which event is most popular in terms on number of players? (Top 5)**"
      ]
    },
    {
      "cell_type": "code",
      "metadata": {
        "colab": {
          "base_uri": "https://localhost:8080/",
          "height": 376
        },
        "id": "gYp9QMr66wsF",
        "outputId": "d9a80676-7ccd-4226-958d-3ac9c5cc9b15"
      },
      "source": [
        "\n",
        "a=[]\n",
        "for event in df['Event'].unique():\n",
        "  a.append([event,len(df[df['Event']==event])])\n",
        "\n",
        "a=pd.DataFrame(a,columns=['Event','Num of Players'])\n",
        "a=a.sort_values(by='Num of Players',ascending = False )\n",
        "a=a.head()\n",
        "a.plot(x='Event',y='Num of Players',kind='bar')"
      ],
      "execution_count": 328,
      "outputs": [
        {
          "output_type": "execute_result",
          "data": {
            "text/plain": [
              "<matplotlib.axes._subplots.AxesSubplot at 0x7fe83a594510>"
            ]
          },
          "metadata": {},
          "execution_count": 328
        },
        {
          "output_type": "display_data",
          "data": {
            "image/png": "[encoded data removed]",
            "text/plain": [
              "<Figure size 432x288 with 1 Axes>"
            ]
          },
          "metadata": {
            "needs_background": "light"
          }
        }
      ]
    },
    {
      "cell_type": "markdown",
      "metadata": {
        "id": "SvkxxsNQFA6J"
      },
      "source": [
        "### **8. Which sport is having most female Gold Medalists? (Top 5)**"
      ]
    },
    {
      "cell_type": "code",
      "metadata": {
        "colab": {
          "base_uri": "https://localhost:8080/",
          "height": 344
        },
        "id": "4U_GguYgDLru",
        "outputId": "3d535de8-de0d-42c6-cf38-3c1042d10b40"
      },
      "source": [
        "gold=df[df['Medal']=='Gold']\n",
        "women=gold[gold['Gender']=='Women']\n",
        "a=[]\n",
        "for sport in women['Sport'].unique():\n",
        "  a.append([sport,len(women[women['Sport']==sport])])\n",
        "\n",
        "a=pd.DataFrame(a,columns=['Sport','Female gold medalists'])\n",
        "a=a.sort_values(by='Female gold medalists',ascending=False)\n",
        "a=a.head()\n",
        "\n",
        "a.plot(x='Sport',y='Female gold medalists',kind='bar')"
      ],
      "execution_count": 329,
      "outputs": [
        {
          "output_type": "execute_result",
          "data": {
            "text/plain": [
              "<matplotlib.axes._subplots.AxesSubplot at 0x7fe83aa37790>"
            ]
          },
          "metadata": {},
          "execution_count": 329
        },
        {
          "output_type": "display_data",
          "data": {
            "image/png": "[encoded data removed]",
            "text/plain": [
              "<Figure size 432x288 with 1 Axes>"
            ]
          },
          "metadata": {
            "needs_background": "light"
          }
        }
      ]
    }
  ]
}